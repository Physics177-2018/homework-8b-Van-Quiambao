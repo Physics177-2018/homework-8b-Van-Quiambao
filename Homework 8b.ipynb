{
 "cells": [
  {
   "cell_type": "markdown",
   "metadata": {},
   "source": [
    "# Homework 8b: Ising Model\n",
    "Physics 177, Spring 2018  \n",
    "**Due:** Tuesday, May 29\n",
    "\n",
    "*Enter your name here*"
   ]
  },
  {
   "cell_type": "markdown",
   "metadata": {},
   "source": [
    "## Discussion\n",
    "\n",
    "This is the keystone project of our course. The Ising model for a magnet is characterized by the energy function:\n",
    "\n",
    "$$E = - J\\sum_{i,j}^\\text{n.n.}s_i s_j$$\n",
    "\n",
    "where 'n.n.' means \"nearest neighbors\" (the four adjacent cells in 2D).  Here $s_{i} = \\pm 1$ is the **spin in the $z$-direction** of the electron at site `i`. We've chosen a convenient normalization. In fact, we'll choose convenient units where $J = \\mu = k_B = 1$. "
   ]
  },
  {
   "cell_type": "markdown",
   "metadata": {},
   "source": [
    "## Problem 1: Ising Model\n",
    "\n",
    "Simulate the 2D Ising model using Markov Chain Monte Carlo and the following parameters:\n",
    "\n",
    "* `nSide = 20`, the number of nodes per side\n",
    "* `nTemp = 100`, the number of temperature samples\n",
    "* `Tmin = 1`, `Tmax = 4`, the mininum and maximum temperatures to scan\n",
    "* `nStep = 10000`, the number of Monte Carlo steps to sample the microstates\n",
    "\n",
    "**You should structure your program as follows:**  \n",
    "* Define a variable `state` that is a `nSide` by `nSide` numpy array. Here's a good way to initialize it:\n",
    "\n",
    "```python\n",
    "state = 2*np.random.randint(2, size=(nSide,nSide))-1\n",
    "```\n",
    "\n",
    "* Define a function `mcmc(state, ii, jj, T)` that takes in a state, two indices (between `0` and `nSide-1`), and a temperature and outputs the state after one Markov Chain step.  \n",
    "  \n",
    "  \n",
    "* The Markov Chain step should be as follows: look at the spin at position (`ii`, `jj`). Propose a step: flip the spin: `spin *= -1`. If that step is energetically favorable, do it. If not, roll the dice relative to $P = e^{-\\Delta E/T}$. Note that `deltaE = 2*spin*Heff`, where the effective magnetic field is simply the sum of nearest neighbor spins.  \n",
    "  \n",
    "  \n",
    "* What about boundary states? To simplify our lives, impose periodic boundary conditions. Thus the \"neighbor to the right\" of `state[ii,jj]` is `state[(ii+1)%nSide, jj]`.  \n",
    "  \n",
    "  \n",
    "* Define a function `magnetization(state)` that takes in a state and outputs the sum of spins over all sites. The `np.sum` function may be useful.  \n",
    "  \n",
    "  \n",
    "* Define a function `plotState(state)` that plots the spins. Here's a nice definition that you can use:\n",
    "```python\n",
    "def plotState(state):\n",
    "    N = np.shape(state)[0]\n",
    "    xs, ys = np.meshgrid(range(N), range(N))\n",
    "    plt.axis('square')\n",
    "    plt.axis((0,N-1,0,N-1))\n",
    "    plt.pcolormesh(xs, ys, state, cmap=plt.get_cmap('binary'))\n",
    "    plt.xticks([])\n",
    "    plt.yticks([])\n",
    "    plt.show\n",
    "```\n",
    "  \n",
    "  \n",
    "* To run the program: equilibrate the system at `Tmin`. This means running the Markov Chain step over and over again (*without* taking data) to make sure that the system settles to a low energy state. In other words, when you start sampling, you want to sample a \"typical\" microstate at `Tmin`, not an \"unusually energetic\" state. \n",
    "  \n",
    "  \n",
    "* Now scan over the `nTemp` temperature steps between `Tmin` and `Tmax`. For each temperature, run the Markov Chain to generate `nStep` microstate samples at that temperature. For each microstate, record the magnetization. Take the *average* magnetization at that temperature and record it in an array. (You'll want to also divide by `nStep**2` so that you get the average magnetization *per site*.) I called this array `mags`, you can call it something else.\n",
    "  \n",
    "  \n",
    "* You can use the `timeit` package to time how long it takes to run the cell. With the default parameters above, it should take about a minute. You should, of course, be testing with much smaller numbers while you're writing your code. \n",
    "  \n",
    "  \n",
    "* Plot `mags` (the magnetization per site) as a function of temperature. You should observe a curve (perhaps a little sloppy looking) that looks like the one we sketched in <a href=\"https://github.com/Physics177-2018/Lecture_15\">Lecture 15</a>. If your plot does not look like that, then play with the parameters. Did you equilibrate enough? (I found that I had to equilibrate for `3*nStep` = 30,000 steps to go from a random lattice to a lattice thermalized at `Tmin = 1`. \n",
    "  \n",
    "  \n",
    "* Use `plotState` to plot the system at `tMin` and `tMax`. Do these match what you expect? \n",
    "\n",
    "  \n",
    "  \n",
    "Here's what the magnetization should look like:\n",
    "<img src=\"HW8b_sample2.png\">"
   ]
  },
  {
   "cell_type": "markdown",
   "metadata": {},
   "source": [
    "## Problem 2: animate!\n",
    "\n",
    "Copy your solution to Problem 1 below. In this problem, we'll output an animated PNG of the lattice.  \n",
    "  \n",
    "  \n",
    "Define a function `postState(state)` that is based on `plotState`, but instead saves the figure to a subfolder, `HW8b/` with some frame number. \n",
    "\n",
    "```python\n",
    "    plt.savefig(\"HW8b/frame\" + str(frame_num))\n",
    "    plt.clf() # clear the plot after\n",
    "```\n",
    "  \n",
    "Now modify the scan over temperatures so that at each temperature, (1) run `postState(state)`, (2) increment `frame_num`.  Then follow Homework 8a to use the `APNG` package to stitch together the individual frames into a single animated PNG. Include that image below. \n",
    "  \n",
    "  \n",
    "Here's an example of how it should look:\n",
    "<img src=\"HW8b_sample.png\">\n",
    "\n",
    "(Note that this example has a small mistake, can you tell what it is?)"
   ]
  },
  {
   "cell_type": "markdown",
   "metadata": {},
   "source": [
    "## Extra credit\n",
    "\n",
    "Plot the **magnetic susceptibility**, \n",
    "$$\\frac{1}{T}\\left(\\langle M^2 \\rangle - \\langle M \\rangle^2\\right)$$ \n",
    "as a function of temperature"
   ]
  }
 ],
 "metadata": {
  "kernelspec": {
   "display_name": "Python 3",
   "language": "python",
   "name": "python3"
  },
  "language_info": {
   "codemirror_mode": {
    "name": "ipython",
    "version": 3
   },
   "file_extension": ".py",
   "mimetype": "text/x-python",
   "name": "python",
   "nbconvert_exporter": "python",
   "pygments_lexer": "ipython3",
   "version": "3.6.3"
  }
 },
 "nbformat": 4,
 "nbformat_minor": 2
}
